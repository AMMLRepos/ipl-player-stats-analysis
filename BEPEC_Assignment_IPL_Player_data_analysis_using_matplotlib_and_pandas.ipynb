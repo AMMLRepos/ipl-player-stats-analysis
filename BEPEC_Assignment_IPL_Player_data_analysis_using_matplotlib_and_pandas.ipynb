{
  "nbformat": 4,
  "nbformat_minor": 0,
  "metadata": {
    "colab": {
      "name": "BEPEC Assignment - IPL Player data analysis using matplotlib and pandas ",
      "provenance": [],
      "authorship_tag": "ABX9TyN4zWqR/hZyz5dabYFxv/Y0",
      "include_colab_link": true
    },
    "kernelspec": {
      "name": "python3",
      "display_name": "Python 3"
    },
    "language_info": {
      "name": "python"
    }
  },
  "cells": [
    {
      "cell_type": "markdown",
      "metadata": {
        "id": "view-in-github",
        "colab_type": "text"
      },
      "source": [
        "<a href=\"https://colab.research.google.com/github/AMMLRepos/ipl-player-stats-analysis/blob/main/BEPEC_Assignment_IPL_Player_data_analysis_using_matplotlib_and_pandas.ipynb\" target=\"_parent\"><img src=\"https://colab.research.google.com/assets/colab-badge.svg\" alt=\"Open In Colab\"/></a>"
      ]
    },
    {
      "cell_type": "markdown",
      "metadata": {
        "id": "7OIIrN26U-7s"
      },
      "source": [
        "# Assignment Details \n",
        "\n",
        "- **Submitted By** - Ashay Maheshwari\n",
        "- **Email**- aaryaashay1848@gmail.com\n",
        "- **Date of Submission** - October 21, 2021\n",
        "\n",
        "# To-do\n",
        "\n",
        "*   Execute all graphs and plots of matplot_aug.ipynb file \n",
        "*   Create your own data of minimum 30 rows and 5 colums\n",
        "*   Use matplotlib to derive some interesting insights from the same "
      ]
    },
    {
      "cell_type": "markdown",
      "metadata": {
        "id": "ygXlmQ_pe7bw"
      },
      "source": [
        "# Title - Analyzing the performance of players from the data collected from 2016 to 2019 \n",
        "\n",
        "- Use python pandas, matplotlib to derive insights and draw graphs \n",
        "- Add conclusions \n",
        "- Source of data - [Kaggle](https://www.kaggle.com/cclayford/cricinfo-statsguru-data?select=IPL+Player+Stats+-+2016+till+2019.csv)\n",
        "\n",
        "# Steps\n",
        "- Download the data in notebook \n",
        "- Analyze and derive insights \n",
        "- Answer interesting questions from the dataset"
      ]
    },
    {
      "cell_type": "markdown",
      "metadata": {
        "id": "IvjVGkR77OR9"
      },
      "source": [
        "# Insights gathered \n",
        "Based on the analysis, we gathered following insights \n",
        "\n",
        "|S.No.|Insights| Conclusion|\n",
        "|--|----|---|\n",
        "|#1| Shikhar Dhawan played most number of matches from 2016 to 2019. He played 63 matches during this period | Shikhar Dhawan can be termed as the most consistent player of IPL during 2016 to 2019 |\n",
        "|#2| Virat Kohli scored most number of runs from 2016 to 2019. He scored 2275 runs| Virat Kohli is the best batsman for 2016 to 2019 IPL duration|\n",
        "|#3| Royal Challenges Bangalore played maximum number of players during this period. They gave chance to 84 players | Royal Challengers has most unstable team as they played 84 players during this period |\n",
        "|#4| Delhi Capitals played minimum number of players during this period. They gave chance to 20 players | Delhi Capitals is the most stable team which only tried 20 players during this period |\n",
        "|#5| Ishant Sharma has the maximum strike rate in an innings from all the innings of IPL from 2016 to 2019. He had a strike rate of 333.33| Ishant Sharma played the most destructive innings in the IPL in terms of strike rate|\n",
        "|#6| Cr Braithwate is the player with maximum strike rate among the players show scored 50 runs or more| CR Braithwate is the most destructive player for the duration 2016 to 2019|"
      ]
    },
    {
      "cell_type": "markdown",
      "metadata": {
        "id": "gp6nuz2miRBe"
      },
      "source": [
        "## Download the dataset and import required libraries"
      ]
    },
    {
      "cell_type": "code",
      "metadata": {
        "colab": {
          "base_uri": "https://localhost:8080/"
        },
        "id": "WQgcAr4HiSx6",
        "outputId": "f0345b2b-7103-4693-85c1-e5c289c7d988"
      },
      "source": [
        "from urllib.request import urlretrieve\n",
        "dataseturl = \"https://raw.githubusercontent.com/AMMLRepos/ipl-player-stats-analysis/main/ipl-player-stats-2016-till-2019.csv\"\n",
        "urlretrieve(dataseturl, 'ipl-player-stats.csv')"
      ],
      "execution_count": 47,
      "outputs": [
        {
          "output_type": "execute_result",
          "data": {
            "text/plain": [
              "('ipl-player-stats.csv', <http.client.HTTPMessage at 0x7ff63b151350>)"
            ]
          },
          "metadata": {},
          "execution_count": 47
        }
      ]
    },
    {
      "cell_type": "code",
      "metadata": {
        "colab": {
          "base_uri": "https://localhost:8080/",
          "height": 34
        },
        "id": "ZZ3Hj4Sdjwyw",
        "outputId": "62715de8-cd76-4462-e458-09391e3ce98f"
      },
      "source": [
        "import pandas as pd\n",
        "import matplotlib.pyplot as plt\n",
        "#Ensures that matplotlib and seaborn graphs are visible within notebook\n",
        "%matplotlib inline \n",
        "\n",
        "plt.figure(figsize=(8,6))\n",
        "\n",
        "#Ensures that you see all (500) columns within notebook\n",
        "pd.set_option('display.max_columns', 500)\n",
        "pd.set_option('display.width', 1000)"
      ],
      "execution_count": 48,
      "outputs": [
        {
          "output_type": "display_data",
          "data": {
            "text/plain": [
              "<Figure size 576x432 with 0 Axes>"
            ]
          },
          "metadata": {}
        }
      ]
    },
    {
      "cell_type": "markdown",
      "metadata": {
        "id": "qjvET0X5kJ5S"
      },
      "source": [
        "## Import data into pandas\n"
      ]
    },
    {
      "cell_type": "code",
      "metadata": {
        "colab": {
          "base_uri": "https://localhost:8080/"
        },
        "id": "UTCo8UGQkMUg",
        "outputId": "b10a5a07-5ea5-4ca3-c915-f84636b79b2d"
      },
      "source": [
        "raw_ipl_data = pd.read_csv(\"ipl-player-stats.csv\")\n",
        "print(raw_ipl_data)"
      ],
      "execution_count": 49,
      "outputs": [
        {
          "output_type": "stream",
          "name": "stdout",
          "text": [
            "                 Team         Player Tournament  Matches Batting Innings Not Out Runds Scored Highest Score Batting Average Balls Faced Batting Strike Rate 100 50  0  4s  6s Bowling Innings Overs Bowled Maidens Bowled Runs Conceded Wickets Taken Best Bowling Figures Bowling Average Bowling Economy Rate Bowling Strike Rate 4+ Innings Wickets 5+ Innings Wickets  Catches Taken  Stumpings Made\n",
            "0    Delhi Daredevils      CH Morris   IPL 2016       12               7       4          195           82*           65.00         109              178.89   0  1  1  15  12              12         44.0              0           308            13                 2/30           23.69                 7.00                20.3                  0                  0              8               0\n",
            "1    Delhi Daredevils      CH Morris   IPL 2017        9               9       4          154           52*           30.80          94              163.82   0  1  0  15   6               9         31.0              0           240            12                 4/26           20.00                 7.74                15.5                  1                  0              5               0\n",
            "2    Delhi Daredevils      CH Morris   IPL 2018        4               4       3           46           27*           46.00          26              176.92   0  0  0   3   2               4         14.0              0           143             3                 2/41           47.66                10.21                28.0                  0                  0              2               0\n",
            "3    Delhi Daredevils      JP Duminy   IPL 2016       10               8       3          191           49*           38.20         156              122.43   0  0  0  13   3               5          7.0              0            55             2                  1/4           27.50                 7.85                21.0                  0                  0              3               0\n",
            "4    Delhi Daredevils      Q de Kock   IPL 2016       13              13       1          445           108           37.08         327              136.08   1  3  0  52  13               -            -              -             -             -                    -               -                    -                   -                  -                  -              2               2\n",
            "..                ...            ...        ...      ...             ...     ...          ...           ...             ...         ...                 ...  .. .. ..  ..  ..             ...          ...            ...           ...           ...                  ...             ...                  ...                 ...                ...                ...            ...             ...\n",
            "626    Delhi Capitals   S Lamichhane   IPL 2019        6               1       0            0             0            0.00           1                0.00   0  0  1   0   0               6         23.0              0           210             8                 3/40           26.25                 9.13                17.2                  0                  0              2               0\n",
            "627    Delhi Capitals      CA Ingram   IPL 2019       12              12       2          184            47           18.40         154              119.48   0  0  0  20   5               -            -              -             -             -                    -               -                    -                   -                  -                  -              1               0\n",
            "628    Delhi Capitals  SE Rutherford   IPL 2019        7               7       2           73           28*           14.60          54              135.18   0  0  0   2   7               6          6.5              0            59             1                  1/6           59.00                 8.63                41.0                  0                  0              5               0\n",
            "629    Delhi Capitals       KMA Paul   IPL 2019        8               6       1           18             7            3.60          24               75.00   0  0  2   1   1               8         27.1              0           237             9                 3/17           26.33                 8.72                18.1                  0                  0              5               0\n",
            "630    Delhi Capitals      GH Vihari   IPL 2019        2               2       0            4             2            2.00           8               50.00   0  0  0   0   0               1          1.0              0             9             0                    -               -                 9.00                   -                  0                  0              0               0\n",
            "\n",
            "[631 rows x 29 columns]\n"
          ]
        }
      ]
    },
    {
      "cell_type": "markdown",
      "metadata": {
        "id": "1TkNiFekkahV"
      },
      "source": [
        "List all the columns "
      ]
    },
    {
      "cell_type": "code",
      "metadata": {
        "colab": {
          "base_uri": "https://localhost:8080/"
        },
        "id": "dtAjzSQDkgi5",
        "outputId": "ab84e211-4fce-4eee-d5c5-1c0bc7e1cb6b"
      },
      "source": [
        "#Print all the columns of the dataset\n",
        "raw_ipl_data.columns"
      ],
      "execution_count": 50,
      "outputs": [
        {
          "output_type": "execute_result",
          "data": {
            "text/plain": [
              "Index(['Team', 'Player', 'Tournament', 'Matches', 'Batting Innings', 'Not Out', 'Runds Scored', 'Highest Score', 'Batting Average', 'Balls Faced', 'Batting Strike Rate', '100', '50', '0', '4s', '6s', 'Bowling Innings', 'Overs Bowled', 'Maidens Bowled', 'Runs Conceded', 'Wickets Taken', 'Best Bowling Figures', 'Bowling Average', 'Bowling Economy Rate', 'Bowling Strike Rate', '4+ Innings Wickets', '5+ Innings Wickets', 'Catches Taken', 'Stumpings Made'], dtype='object')"
            ]
          },
          "metadata": {},
          "execution_count": 50
        }
      ]
    },
    {
      "cell_type": "code",
      "metadata": {
        "colab": {
          "base_uri": "https://localhost:8080/"
        },
        "id": "4yeo44zrnecr",
        "outputId": "0e180f01-9556-454c-c72c-76a9f527056e"
      },
      "source": [
        "raw_ipl_data.shape"
      ],
      "execution_count": 51,
      "outputs": [
        {
          "output_type": "execute_result",
          "data": {
            "text/plain": [
              "(631, 29)"
            ]
          },
          "metadata": {},
          "execution_count": 51
        }
      ]
    },
    {
      "cell_type": "code",
      "metadata": {
        "colab": {
          "base_uri": "https://localhost:8080/"
        },
        "id": "jpOOJWyUzXFw",
        "outputId": "e4af95c6-d93f-4509-e0ec-86a261dce9ad"
      },
      "source": [
        "raw_ipl_data.info()"
      ],
      "execution_count": 52,
      "outputs": [
        {
          "output_type": "stream",
          "name": "stdout",
          "text": [
            "<class 'pandas.core.frame.DataFrame'>\n",
            "RangeIndex: 631 entries, 0 to 630\n",
            "Data columns (total 29 columns):\n",
            " #   Column                Non-Null Count  Dtype \n",
            "---  ------                --------------  ----- \n",
            " 0   Team                  631 non-null    object\n",
            " 1   Player                631 non-null    object\n",
            " 2   Tournament            631 non-null    object\n",
            " 3   Matches               631 non-null    int64 \n",
            " 4   Batting Innings       631 non-null    object\n",
            " 5   Not Out               631 non-null    object\n",
            " 6   Runds Scored          631 non-null    object\n",
            " 7   Highest Score         631 non-null    object\n",
            " 8   Batting Average       631 non-null    object\n",
            " 9   Balls Faced           631 non-null    object\n",
            " 10  Batting Strike Rate   631 non-null    object\n",
            " 11  100                   631 non-null    object\n",
            " 12  50                    631 non-null    object\n",
            " 13  0                     631 non-null    object\n",
            " 14  4s                    631 non-null    object\n",
            " 15  6s                    631 non-null    object\n",
            " 16  Bowling Innings       631 non-null    object\n",
            " 17  Overs Bowled          631 non-null    object\n",
            " 18  Maidens Bowled        631 non-null    object\n",
            " 19  Runs Conceded         631 non-null    object\n",
            " 20  Wickets Taken         631 non-null    object\n",
            " 21  Best Bowling Figures  631 non-null    object\n",
            " 22  Bowling Average       631 non-null    object\n",
            " 23  Bowling Economy Rate  631 non-null    object\n",
            " 24  Bowling Strike Rate   631 non-null    object\n",
            " 25  4+ Innings Wickets    631 non-null    object\n",
            " 26  5+ Innings Wickets    631 non-null    object\n",
            " 27  Catches Taken         631 non-null    int64 \n",
            " 28  Stumpings Made        631 non-null    int64 \n",
            "dtypes: int64(3), object(26)\n",
            "memory usage: 143.1+ KB\n"
          ]
        }
      ]
    },
    {
      "cell_type": "markdown",
      "metadata": {
        "id": "ui1fEPZilswk"
      },
      "source": [
        "# Get the top 10 players who played most number of matches in the IPL from 2016 to 2019"
      ]
    },
    {
      "cell_type": "code",
      "metadata": {
        "id": "Ge4LRAnyl_1G"
      },
      "source": [
        "raw_ipl_data[\"Total Matches\"] = raw_ipl_data.groupby(['Player'])[\"Matches\"].transform('sum')"
      ],
      "execution_count": 53,
      "outputs": []
    },
    {
      "cell_type": "code",
      "metadata": {
        "colab": {
          "base_uri": "https://localhost:8080/"
        },
        "id": "Tw4rx2Z0nmuZ",
        "outputId": "8d8f7f0c-dc44-401f-e5d2-2789b88c8159"
      },
      "source": [
        "print(raw_ipl_data)"
      ],
      "execution_count": 54,
      "outputs": [
        {
          "output_type": "stream",
          "name": "stdout",
          "text": [
            "                 Team         Player Tournament  Matches Batting Innings Not Out Runds Scored Highest Score Batting Average Balls Faced Batting Strike Rate 100 50  0  4s  6s Bowling Innings Overs Bowled Maidens Bowled Runs Conceded Wickets Taken Best Bowling Figures Bowling Average Bowling Economy Rate Bowling Strike Rate 4+ Innings Wickets 5+ Innings Wickets  Catches Taken  Stumpings Made  Total Matches\n",
            "0    Delhi Daredevils      CH Morris   IPL 2016       12               7       4          195           82*           65.00         109              178.89   0  1  1  15  12              12         44.0              0           308            13                 2/30           23.69                 7.00                20.3                  0                  0              8               0             34\n",
            "1    Delhi Daredevils      CH Morris   IPL 2017        9               9       4          154           52*           30.80          94              163.82   0  1  0  15   6               9         31.0              0           240            12                 4/26           20.00                 7.74                15.5                  1                  0              5               0             34\n",
            "2    Delhi Daredevils      CH Morris   IPL 2018        4               4       3           46           27*           46.00          26              176.92   0  0  0   3   2               4         14.0              0           143             3                 2/41           47.66                10.21                28.0                  0                  0              2               0             34\n",
            "3    Delhi Daredevils      JP Duminy   IPL 2016       10               8       3          191           49*           38.20         156              122.43   0  0  0  13   3               5          7.0              0            55             2                  1/4           27.50                 7.85                21.0                  0                  0              3               0             16\n",
            "4    Delhi Daredevils      Q de Kock   IPL 2016       13              13       1          445           108           37.08         327              136.08   1  3  0  52  13               -            -              -             -             -                    -               -                    -                   -                  -                  -              2               2             37\n",
            "..                ...            ...        ...      ...             ...     ...          ...           ...             ...         ...                 ...  .. .. ..  ..  ..             ...          ...            ...           ...           ...                  ...             ...                  ...                 ...                ...                ...            ...             ...            ...\n",
            "626    Delhi Capitals   S Lamichhane   IPL 2019        6               1       0            0             0            0.00           1                0.00   0  0  1   0   0               6         23.0              0           210             8                 3/40           26.25                 9.13                17.2                  0                  0              2               0              9\n",
            "627    Delhi Capitals      CA Ingram   IPL 2019       12              12       2          184            47           18.40         154              119.48   0  0  0  20   5               -            -              -             -             -                    -               -                    -                   -                  -                  -              1               0             12\n",
            "628    Delhi Capitals  SE Rutherford   IPL 2019        7               7       2           73           28*           14.60          54              135.18   0  0  0   2   7               6          6.5              0            59             1                  1/6           59.00                 8.63                41.0                  0                  0              5               0              7\n",
            "629    Delhi Capitals       KMA Paul   IPL 2019        8               6       1           18             7            3.60          24               75.00   0  0  2   1   1               8         27.1              0           237             9                 3/17           26.33                 8.72                18.1                  0                  0              5               0              8\n",
            "630    Delhi Capitals      GH Vihari   IPL 2019        2               2       0            4             2            2.00           8               50.00   0  0  0   0   0               1          1.0              0             9             0                    -               -                 9.00                   -                  0                  0              0               0              2\n",
            "\n",
            "[631 rows x 30 columns]\n"
          ]
        }
      ]
    },
    {
      "cell_type": "markdown",
      "metadata": {
        "id": "cXApFfY0oS8Q"
      },
      "source": [
        "Lets create a separate dataframe which has only player names and total matches they have played based on the data "
      ]
    },
    {
      "cell_type": "code",
      "metadata": {
        "id": "ZMvPYhDvoEEf"
      },
      "source": [
        "total_matches_df = raw_ipl_data[[\"Player\", \"Total Matches\"]].copy()"
      ],
      "execution_count": 55,
      "outputs": []
    },
    {
      "cell_type": "code",
      "metadata": {
        "colab": {
          "base_uri": "https://localhost:8080/"
        },
        "id": "47JfNm7IoQXC",
        "outputId": "2a217ba5-7102-48fa-a832-5c1883b8dd14"
      },
      "source": [
        "print(total_matches_df)"
      ],
      "execution_count": 56,
      "outputs": [
        {
          "output_type": "stream",
          "name": "stdout",
          "text": [
            "            Player  Total Matches\n",
            "0        CH Morris             34\n",
            "1        CH Morris             34\n",
            "2        CH Morris             34\n",
            "3        JP Duminy             16\n",
            "4        Q de Kock             37\n",
            "..             ...            ...\n",
            "626   S Lamichhane              9\n",
            "627      CA Ingram             12\n",
            "628  SE Rutherford              7\n",
            "629       KMA Paul              8\n",
            "630      GH Vihari              2\n",
            "\n",
            "[631 rows x 2 columns]\n"
          ]
        }
      ]
    },
    {
      "cell_type": "markdown",
      "metadata": {
        "id": "s9CbkANxojAI"
      },
      "source": [
        "Let us now drop duplicates"
      ]
    },
    {
      "cell_type": "code",
      "metadata": {
        "id": "xUpojPMfoljl"
      },
      "source": [
        "total_matches_df = total_matches_df.drop_duplicates(subset=['Player', 'Total Matches'])\n"
      ],
      "execution_count": 57,
      "outputs": []
    },
    {
      "cell_type": "code",
      "metadata": {
        "colab": {
          "base_uri": "https://localhost:8080/"
        },
        "id": "KjkcNMpEoy2A",
        "outputId": "c47abcbe-219e-43e5-f246-5d9e039b5205"
      },
      "source": [
        "print(total_matches_df)"
      ],
      "execution_count": 58,
      "outputs": [
        {
          "output_type": "stream",
          "name": "stdout",
          "text": [
            "            Player  Total Matches\n",
            "0        CH Morris             34\n",
            "3        JP Duminy             16\n",
            "4        Q de Kock             37\n",
            "5          KK Nair             42\n",
            "7           P Negi             29\n",
            "..             ...            ...\n",
            "610       O Thomas              4\n",
            "627      CA Ingram             12\n",
            "628  SE Rutherford              7\n",
            "629       KMA Paul              8\n",
            "630      GH Vihari              2\n",
            "\n",
            "[268 rows x 2 columns]\n"
          ]
        }
      ]
    },
    {
      "cell_type": "markdown",
      "metadata": {
        "id": "_MvkNcsto-7Y"
      },
      "source": [
        "To get top 5 players we need to sort the data "
      ]
    },
    {
      "cell_type": "code",
      "metadata": {
        "colab": {
          "base_uri": "https://localhost:8080/"
        },
        "id": "i6uSDm4HpCUI",
        "outputId": "45003cf7-c94a-415e-8347-cf9679b6c02e"
      },
      "source": [
        "test_df = total_matches_df.sort_values(by = \"Total Matches\", ascending =  False).head(10)\n",
        "print(test_df)"
      ],
      "execution_count": 59,
      "outputs": [
        {
          "output_type": "stream",
          "name": "stdout",
          "text": [
            "         Player  Total Matches\n",
            "387    S Dhawan             63\n",
            "450    SK Raina             61\n",
            "491    MS Dhoni             61\n",
            "249   JJ Bumrah             60\n",
            "191  KD Karthik             60\n",
            "218   RG Sharma             60\n",
            "490   AM Rahane             59\n",
            "458   RA Jadeja             59\n",
            "410     B Kumar             58\n",
            "152  RV Uthappa             57\n"
          ]
        }
      ]
    },
    {
      "cell_type": "code",
      "metadata": {
        "colab": {
          "base_uri": "https://localhost:8080/"
        },
        "id": "xByLWUBBp0b_",
        "outputId": "6269c170-6b21-4f9d-faf5-1885b09d0b27"
      },
      "source": [
        "players = test_df[\"Player\"].to_list()\n",
        "print(players)"
      ],
      "execution_count": 60,
      "outputs": [
        {
          "output_type": "stream",
          "name": "stdout",
          "text": [
            "['S Dhawan', 'SK Raina', 'MS Dhoni', 'JJ Bumrah', 'KD Karthik', 'RG Sharma', 'AM Rahane', 'RA Jadeja', 'B Kumar', 'RV Uthappa']\n"
          ]
        }
      ]
    },
    {
      "cell_type": "code",
      "metadata": {
        "colab": {
          "base_uri": "https://localhost:8080/"
        },
        "id": "1BpYbcaKqUT7",
        "outputId": "96821b28-a674-43a0-8ee7-d00ecc8e7099"
      },
      "source": [
        "matches = test_df[\"Total Matches\"].to_list()\n",
        "print(matches)"
      ],
      "execution_count": 61,
      "outputs": [
        {
          "output_type": "stream",
          "name": "stdout",
          "text": [
            "[63, 61, 61, 60, 60, 60, 59, 59, 58, 57]\n"
          ]
        }
      ]
    },
    {
      "cell_type": "code",
      "metadata": {
        "colab": {
          "base_uri": "https://localhost:8080/",
          "height": 404
        },
        "id": "IpxNS-Viqg_Y",
        "outputId": "a66d7ec5-158c-4dfb-8ca0-ca8c32cef9a2"
      },
      "source": [
        "plt.figure(figsize=(18,6))\n",
        "plt.bar(players, matches)\n",
        "plt.xlabel(\"Name of player\")\n",
        "plt.ylabel(\"Number of matches played\")\n",
        "plt.title(\"Players with most number of matches in IPL from 2016 to 2019\")\n",
        "plt.show()"
      ],
      "execution_count": 62,
      "outputs": [
        {
          "output_type": "display_data",
          "data": {
            "image/png": "[encoded data removed]",
            "text/plain": [
              "<Figure size 1296x432 with 1 Axes>"
            ]
          },
          "metadata": {
            "needs_background": "light"
          }
        }
      ]
    },
    {
      "cell_type": "markdown",
      "metadata": {
        "id": "H_Yewo2irWaO"
      },
      "source": [
        "# Get the top 10 players who scored most number of runs in the IPL from 2016 to 2019"
      ]
    },
    {
      "cell_type": "code",
      "metadata": {
        "colab": {
          "base_uri": "https://localhost:8080/"
        },
        "id": "5JMs0eZJsHVJ",
        "outputId": "10486f1d-85e5-4b7e-9f77-74f4903633dd"
      },
      "source": [
        "raw_ipl_data.info()"
      ],
      "execution_count": 63,
      "outputs": [
        {
          "output_type": "stream",
          "name": "stdout",
          "text": [
            "<class 'pandas.core.frame.DataFrame'>\n",
            "RangeIndex: 631 entries, 0 to 630\n",
            "Data columns (total 30 columns):\n",
            " #   Column                Non-Null Count  Dtype \n",
            "---  ------                --------------  ----- \n",
            " 0   Team                  631 non-null    object\n",
            " 1   Player                631 non-null    object\n",
            " 2   Tournament            631 non-null    object\n",
            " 3   Matches               631 non-null    int64 \n",
            " 4   Batting Innings       631 non-null    object\n",
            " 5   Not Out               631 non-null    object\n",
            " 6   Runds Scored          631 non-null    object\n",
            " 7   Highest Score         631 non-null    object\n",
            " 8   Batting Average       631 non-null    object\n",
            " 9   Balls Faced           631 non-null    object\n",
            " 10  Batting Strike Rate   631 non-null    object\n",
            " 11  100                   631 non-null    object\n",
            " 12  50                    631 non-null    object\n",
            " 13  0                     631 non-null    object\n",
            " 14  4s                    631 non-null    object\n",
            " 15  6s                    631 non-null    object\n",
            " 16  Bowling Innings       631 non-null    object\n",
            " 17  Overs Bowled          631 non-null    object\n",
            " 18  Maidens Bowled        631 non-null    object\n",
            " 19  Runs Conceded         631 non-null    object\n",
            " 20  Wickets Taken         631 non-null    object\n",
            " 21  Best Bowling Figures  631 non-null    object\n",
            " 22  Bowling Average       631 non-null    object\n",
            " 23  Bowling Economy Rate  631 non-null    object\n",
            " 24  Bowling Strike Rate   631 non-null    object\n",
            " 25  4+ Innings Wickets    631 non-null    object\n",
            " 26  5+ Innings Wickets    631 non-null    object\n",
            " 27  Catches Taken         631 non-null    int64 \n",
            " 28  Stumpings Made        631 non-null    int64 \n",
            " 29  Total Matches         631 non-null    int64 \n",
            "dtypes: int64(4), object(26)\n",
            "memory usage: 148.0+ KB\n"
          ]
        }
      ]
    },
    {
      "cell_type": "markdown",
      "metadata": {
        "id": "Zdo8V3y2sP0S"
      },
      "source": [
        "It is observed that \"Runds Scored\" column is of type object and must be converted into integer format to calculate total runs else it will be treated as a string and string concatenation will come into action. Also there are many rows which are empty(having - as a value) and must be either replaced with 0 or must be removed. We will replace \"-\" values with 0 "
      ]
    },
    {
      "cell_type": "code",
      "metadata": {
        "colab": {
          "base_uri": "https://localhost:8080/"
        },
        "id": "ILTdzde3t1RE",
        "outputId": "2456b56b-f0b9-45b5-e2ee-0c9ab02515c1"
      },
      "source": [
        "(raw_ipl_data['Runds Scored'].values == '-').sum()           "
      ],
      "execution_count": 64,
      "outputs": [
        {
          "output_type": "execute_result",
          "data": {
            "text/plain": [
              "62"
            ]
          },
          "metadata": {},
          "execution_count": 64
        }
      ]
    },
    {
      "cell_type": "markdown",
      "metadata": {
        "id": "ahPX1kS5uzV5"
      },
      "source": [
        "There are total of 62 values which has a \"-\" and must be replaced with 0"
      ]
    },
    {
      "cell_type": "code",
      "metadata": {
        "id": "VKqRDJe3vACA"
      },
      "source": [
        "raw_ipl_data[\"Runds Scored\"] = raw_ipl_data[\"Runds Scored\"].str.replace(\"-\", \"0\")\n"
      ],
      "execution_count": 65,
      "outputs": []
    },
    {
      "cell_type": "code",
      "metadata": {
        "colab": {
          "base_uri": "https://localhost:8080/"
        },
        "id": "gahdIAj8u-0R",
        "outputId": "f66b3159-2b3b-4990-9d87-943393dfd869"
      },
      "source": [
        "(raw_ipl_data['Runds Scored'].values == '-').sum()           \n"
      ],
      "execution_count": 66,
      "outputs": [
        {
          "output_type": "execute_result",
          "data": {
            "text/plain": [
              "0"
            ]
          },
          "metadata": {},
          "execution_count": 66
        }
      ]
    },
    {
      "cell_type": "markdown",
      "metadata": {
        "id": "3-pVQTO5vwiu"
      },
      "source": [
        "As you can see there are no more rows with \"-\" in them. Now we can convert the type from string to int"
      ]
    },
    {
      "cell_type": "code",
      "metadata": {
        "id": "te0qgq6UsklP"
      },
      "source": [
        "raw_ipl_data[\"Runs Scored\"] = raw_ipl_data[\"Runds Scored\"].astype(int)"
      ],
      "execution_count": 67,
      "outputs": []
    },
    {
      "cell_type": "code",
      "metadata": {
        "id": "fUjFs8IwroRf"
      },
      "source": [
        "raw_ipl_data[\"Total Runs\"] = raw_ipl_data.groupby(['Player'])[\"Runs Scored\"].transform(\"sum\")"
      ],
      "execution_count": 68,
      "outputs": []
    },
    {
      "cell_type": "code",
      "metadata": {
        "colab": {
          "base_uri": "https://localhost:8080/"
        },
        "id": "IlZ-AV_Zrvfp",
        "outputId": "2f271b6c-5f73-4e62-c475-2d665daf13cf"
      },
      "source": [
        "print(raw_ipl_data)"
      ],
      "execution_count": 69,
      "outputs": [
        {
          "output_type": "stream",
          "name": "stdout",
          "text": [
            "                 Team         Player Tournament  Matches Batting Innings Not Out Runds Scored Highest Score Batting Average Balls Faced Batting Strike Rate 100 50  0  4s  6s Bowling Innings Overs Bowled Maidens Bowled Runs Conceded Wickets Taken Best Bowling Figures Bowling Average Bowling Economy Rate Bowling Strike Rate 4+ Innings Wickets 5+ Innings Wickets  Catches Taken  Stumpings Made  Total Matches  Runs Scored  Total Runs\n",
            "0    Delhi Daredevils      CH Morris   IPL 2016       12               7       4          195           82*           65.00         109              178.89   0  1  1  15  12              12         44.0              0           308            13                 2/30           23.69                 7.00                20.3                  0                  0              8               0             34          195         427\n",
            "1    Delhi Daredevils      CH Morris   IPL 2017        9               9       4          154           52*           30.80          94              163.82   0  1  0  15   6               9         31.0              0           240            12                 4/26           20.00                 7.74                15.5                  1                  0              5               0             34          154         427\n",
            "2    Delhi Daredevils      CH Morris   IPL 2018        4               4       3           46           27*           46.00          26              176.92   0  0  0   3   2               4         14.0              0           143             3                 2/41           47.66                10.21                28.0                  0                  0              2               0             34           46         427\n",
            "3    Delhi Daredevils      JP Duminy   IPL 2016       10               8       3          191           49*           38.20         156              122.43   0  0  0  13   3               5          7.0              0            55             2                  1/4           27.50                 7.85                21.0                  0                  0              3               0             16          191         227\n",
            "4    Delhi Daredevils      Q de Kock   IPL 2016       13              13       1          445           108           37.08         327              136.08   1  3  0  52  13               -            -              -             -             -                    -               -                    -                   -                  -                  -              2               2             37          445        1175\n",
            "..                ...            ...        ...      ...             ...     ...          ...           ...             ...         ...                 ...  .. .. ..  ..  ..             ...          ...            ...           ...           ...                  ...             ...                  ...                 ...                ...                ...            ...             ...            ...          ...         ...\n",
            "626    Delhi Capitals   S Lamichhane   IPL 2019        6               1       0            0             0            0.00           1                0.00   0  0  1   0   0               6         23.0              0           210             8                 3/40           26.25                 9.13                17.2                  0                  0              2               0              9            0           0\n",
            "627    Delhi Capitals      CA Ingram   IPL 2019       12              12       2          184            47           18.40         154              119.48   0  0  0  20   5               -            -              -             -             -                    -               -                    -                   -                  -                  -              1               0             12          184         184\n",
            "628    Delhi Capitals  SE Rutherford   IPL 2019        7               7       2           73           28*           14.60          54              135.18   0  0  0   2   7               6          6.5              0            59             1                  1/6           59.00                 8.63                41.0                  0                  0              5               0              7           73          73\n",
            "629    Delhi Capitals       KMA Paul   IPL 2019        8               6       1           18             7            3.60          24               75.00   0  0  2   1   1               8         27.1              0           237             9                 3/17           26.33                 8.72                18.1                  0                  0              5               0              8           18          18\n",
            "630    Delhi Capitals      GH Vihari   IPL 2019        2               2       0            4             2            2.00           8               50.00   0  0  0   0   0               1          1.0              0             9             0                    -               -                 9.00                   -                  0                  0              0               0              2            4           4\n",
            "\n",
            "[631 rows x 32 columns]\n"
          ]
        }
      ]
    },
    {
      "cell_type": "markdown",
      "metadata": {
        "id": "dKflmJSbwVlb"
      },
      "source": [
        "Now let us create a df with player name and total runs and the drop duplicates"
      ]
    },
    {
      "cell_type": "code",
      "metadata": {
        "id": "uWN3QW8wwR1S"
      },
      "source": [
        "total_runs_df = raw_ipl_data[[\"Player\", \"Total Runs\"]].copy()"
      ],
      "execution_count": 70,
      "outputs": []
    },
    {
      "cell_type": "code",
      "metadata": {
        "colab": {
          "base_uri": "https://localhost:8080/"
        },
        "id": "R4zjRNmqwgz9",
        "outputId": "3807c470-1b56-4762-fd8a-d6788a1af92b"
      },
      "source": [
        "total_runs_df = total_runs_df.drop_duplicates(subset = [\"Player\", \"Total Runs\"])\n",
        "print(total_runs_df)"
      ],
      "execution_count": 71,
      "outputs": [
        {
          "output_type": "stream",
          "name": "stdout",
          "text": [
            "            Player  Total Runs\n",
            "0        CH Morris         427\n",
            "3        JP Duminy         227\n",
            "4        Q de Kock        1175\n",
            "5          KK Nair         944\n",
            "7           P Negi         213\n",
            "..             ...         ...\n",
            "610       O Thomas           0\n",
            "627      CA Ingram         184\n",
            "628  SE Rutherford          73\n",
            "629       KMA Paul          18\n",
            "630      GH Vihari           4\n",
            "\n",
            "[268 rows x 2 columns]\n"
          ]
        }
      ]
    },
    {
      "cell_type": "code",
      "metadata": {
        "colab": {
          "base_uri": "https://localhost:8080/"
        },
        "id": "EdeQxLsMw38u",
        "outputId": "e898172b-73d2-4b2c-aeb1-682bc339bfec"
      },
      "source": [
        "total_runs_df = total_runs_df.sort_values(by = \"Total Runs\", ascending =  False).head(10)\n",
        "print(total_runs_df)"
      ],
      "execution_count": 72,
      "outputs": [
        {
          "output_type": "stream",
          "name": "stdout",
          "text": [
            "             Player  Total Runs\n",
            "298         V Kohli        2275\n",
            "384       DA Warner        2181\n",
            "387        S Dhawan        1998\n",
            "302  AB de Villiers        1825\n",
            "10          RR Pant        1736\n",
            "450        SK Raina        1669\n",
            "107        KL Rahul        1649\n",
            "490       AM Rahane        1625\n",
            "218       RG Sharma        1513\n",
            "8         SV Samson        1460\n"
          ]
        }
      ]
    },
    {
      "cell_type": "code",
      "metadata": {
        "id": "kGyf7xvVxGzk"
      },
      "source": [
        "players = total_runs_df[\"Player\"].to_list()\n",
        "runs = total_runs_df[\"Total Runs\"].to_list()"
      ],
      "execution_count": 73,
      "outputs": []
    },
    {
      "cell_type": "code",
      "metadata": {
        "colab": {
          "base_uri": "https://localhost:8080/",
          "height": 404
        },
        "id": "5vjqGIxNxObs",
        "outputId": "6f0e772d-3485-4c3a-f7b2-691ff9bcd001"
      },
      "source": [
        "plt.figure(figsize=(18,6))\n",
        "plt.bar(players, runs)\n",
        "plt.xlabel(\"Name of player\")\n",
        "plt.ylabel(\"Runs scored by a player\")\n",
        "plt.title(\"Players with most number of runs in IPL from 2016 to 2019\")\n",
        "plt.show()"
      ],
      "execution_count": 74,
      "outputs": [
        {
          "output_type": "display_data",
          "data": {
            "image/png": "[encoded data removed]",
            "text/plain": [
              "<Figure size 1296x432 with 1 Axes>"
            ]
          },
          "metadata": {
            "needs_background": "light"
          }
        }
      ]
    },
    {
      "cell_type": "markdown",
      "metadata": {
        "id": "dt9j7NP40Me7"
      },
      "source": [
        "# Which team utilized maximum players during the interval of 2016 to 2019 ?"
      ]
    },
    {
      "cell_type": "code",
      "metadata": {
        "colab": {
          "base_uri": "https://localhost:8080/"
        },
        "id": "B3dK3CG70MJ7",
        "outputId": "480c4dfd-0b9c-4a76-e897-88195d4acc61"
      },
      "source": [
        "teams_players_df = raw_ipl_data[[\"Team\", \"Player\"]].copy()\n",
        "print(teams_players_df)"
      ],
      "execution_count": 75,
      "outputs": [
        {
          "output_type": "stream",
          "name": "stdout",
          "text": [
            "                 Team         Player\n",
            "0    Delhi Daredevils      CH Morris\n",
            "1    Delhi Daredevils      CH Morris\n",
            "2    Delhi Daredevils      CH Morris\n",
            "3    Delhi Daredevils      JP Duminy\n",
            "4    Delhi Daredevils      Q de Kock\n",
            "..                ...            ...\n",
            "626    Delhi Capitals   S Lamichhane\n",
            "627    Delhi Capitals      CA Ingram\n",
            "628    Delhi Capitals  SE Rutherford\n",
            "629    Delhi Capitals       KMA Paul\n",
            "630    Delhi Capitals      GH Vihari\n",
            "\n",
            "[631 rows x 2 columns]\n"
          ]
        }
      ]
    },
    {
      "cell_type": "markdown",
      "metadata": {
        "id": "gJ3NS_D00sdG"
      },
      "source": [
        "Lets drop duplicate player entries from the dataframe"
      ]
    },
    {
      "cell_type": "code",
      "metadata": {
        "colab": {
          "base_uri": "https://localhost:8080/",
          "height": 419
        },
        "id": "V3wkZLOo0ru7",
        "outputId": "fa103720-80bd-40ef-f802-256b8fc935de"
      },
      "source": [
        "teams_players_df.drop_duplicates(subset = [\"Team\", \"Player\"])"
      ],
      "execution_count": 76,
      "outputs": [
        {
          "output_type": "execute_result",
          "data": {
            "text/html": [
              "<div>\n",
              "<style scoped>\n",
              "    .dataframe tbody tr th:only-of-type {\n",
              "        vertical-align: middle;\n",
              "    }\n",
              "\n",
              "    .dataframe tbody tr th {\n",
              "        vertical-align: top;\n",
              "    }\n",
              "\n",
              "    .dataframe thead th {\n",
              "        text-align: right;\n",
              "    }\n",
              "</style>\n",
              "<table border=\"1\" class=\"dataframe\">\n",
              "  <thead>\n",
              "    <tr style=\"text-align: right;\">\n",
              "      <th></th>\n",
              "      <th>Team</th>\n",
              "      <th>Player</th>\n",
              "    </tr>\n",
              "  </thead>\n",
              "  <tbody>\n",
              "    <tr>\n",
              "      <th>0</th>\n",
              "      <td>Delhi Daredevils</td>\n",
              "      <td>CH Morris</td>\n",
              "    </tr>\n",
              "    <tr>\n",
              "      <th>3</th>\n",
              "      <td>Delhi Daredevils</td>\n",
              "      <td>JP Duminy</td>\n",
              "    </tr>\n",
              "    <tr>\n",
              "      <th>4</th>\n",
              "      <td>Delhi Daredevils</td>\n",
              "      <td>Q de Kock</td>\n",
              "    </tr>\n",
              "    <tr>\n",
              "      <th>5</th>\n",
              "      <td>Delhi Daredevils</td>\n",
              "      <td>KK Nair</td>\n",
              "    </tr>\n",
              "    <tr>\n",
              "      <th>7</th>\n",
              "      <td>Delhi Daredevils</td>\n",
              "      <td>P Negi</td>\n",
              "    </tr>\n",
              "    <tr>\n",
              "      <th>...</th>\n",
              "      <td>...</td>\n",
              "      <td>...</td>\n",
              "    </tr>\n",
              "    <tr>\n",
              "      <th>626</th>\n",
              "      <td>Delhi Capitals</td>\n",
              "      <td>S Lamichhane</td>\n",
              "    </tr>\n",
              "    <tr>\n",
              "      <th>627</th>\n",
              "      <td>Delhi Capitals</td>\n",
              "      <td>CA Ingram</td>\n",
              "    </tr>\n",
              "    <tr>\n",
              "      <th>628</th>\n",
              "      <td>Delhi Capitals</td>\n",
              "      <td>SE Rutherford</td>\n",
              "    </tr>\n",
              "    <tr>\n",
              "      <th>629</th>\n",
              "      <td>Delhi Capitals</td>\n",
              "      <td>KMA Paul</td>\n",
              "    </tr>\n",
              "    <tr>\n",
              "      <th>630</th>\n",
              "      <td>Delhi Capitals</td>\n",
              "      <td>GH Vihari</td>\n",
              "    </tr>\n",
              "  </tbody>\n",
              "</table>\n",
              "<p>412 rows × 2 columns</p>\n",
              "</div>"
            ],
            "text/plain": [
              "                 Team         Player\n",
              "0    Delhi Daredevils      CH Morris\n",
              "3    Delhi Daredevils      JP Duminy\n",
              "4    Delhi Daredevils      Q de Kock\n",
              "5    Delhi Daredevils        KK Nair\n",
              "7    Delhi Daredevils         P Negi\n",
              "..                ...            ...\n",
              "626    Delhi Capitals   S Lamichhane\n",
              "627    Delhi Capitals      CA Ingram\n",
              "628    Delhi Capitals  SE Rutherford\n",
              "629    Delhi Capitals       KMA Paul\n",
              "630    Delhi Capitals      GH Vihari\n",
              "\n",
              "[412 rows x 2 columns]"
            ]
          },
          "metadata": {},
          "execution_count": 76
        }
      ]
    },
    {
      "cell_type": "code",
      "metadata": {
        "colab": {
          "base_uri": "https://localhost:8080/"
        },
        "id": "OOghmSei1J2N",
        "outputId": "8246d20a-9b6a-4423-9641-6c53771a5373"
      },
      "source": [
        "teams_players_df.nunique()"
      ],
      "execution_count": 77,
      "outputs": [
        {
          "output_type": "execute_result",
          "data": {
            "text/plain": [
              "Team       12\n",
              "Player    268\n",
              "dtype: int64"
            ]
          },
          "metadata": {},
          "execution_count": 77
        }
      ]
    },
    {
      "cell_type": "markdown",
      "metadata": {
        "id": "Y4wqU3fJ1Qa0"
      },
      "source": [
        "As shown above total 12 teams used 268 players for the period of 2016 to 2019. We need to get the count of players used by each team"
      ]
    },
    {
      "cell_type": "code",
      "metadata": {
        "id": "KgNFMMN91a7a"
      },
      "source": [
        "data = teams_players_df[\"Team\"].value_counts().to_dict()"
      ],
      "execution_count": 78,
      "outputs": []
    },
    {
      "cell_type": "code",
      "metadata": {
        "colab": {
          "base_uri": "https://localhost:8080/"
        },
        "id": "24IBwRFT2Cad",
        "outputId": "3815ed16-70ba-4d09-e643-562ac1268bcf"
      },
      "source": [
        "teams = data.keys()\n",
        "print(teams)"
      ],
      "execution_count": 79,
      "outputs": [
        {
          "output_type": "stream",
          "name": "stdout",
          "text": [
            "dict_keys(['Royal Challengers Bangalore', 'Kings XI Punjab', 'Sunrisers Hyderabad', 'Kolkata Knight Riders', 'Mumbai Indians', 'Delhi Daredevils', 'Gujarat Lions', 'Rajasthan Royals', 'Chennai Super Kings', 'Rising Pune Supergiants', 'Rising Pune Supergiant', 'Delhi Capitals'])\n"
          ]
        }
      ]
    },
    {
      "cell_type": "code",
      "metadata": {
        "colab": {
          "base_uri": "https://localhost:8080/"
        },
        "id": "IH86pgFP2L0D",
        "outputId": "8a961ff1-c193-404c-d11c-c2a44cb517ff"
      },
      "source": [
        "player_count = data.values()\n",
        "print(player_count)"
      ],
      "execution_count": 80,
      "outputs": [
        {
          "output_type": "stream",
          "name": "stdout",
          "text": [
            "dict_values([84, 79, 77, 74, 73, 59, 43, 40, 39, 23, 20, 20])\n"
          ]
        }
      ]
    },
    {
      "cell_type": "code",
      "metadata": {
        "colab": {
          "base_uri": "https://localhost:8080/",
          "height": 248
        },
        "id": "NsLmpYsi2Rsj",
        "outputId": "aa4fbbfd-caa0-4239-897d-09ff096d2bf2"
      },
      "source": [
        "plt.pie(player_count , labels = teams)\n",
        "plt.show()"
      ],
      "execution_count": 81,
      "outputs": [
        {
          "output_type": "display_data",
          "data": {
            "image/png": "[encoded data removed]",
            "text/plain": [
              "<Figure size 432x288 with 1 Axes>"
            ]
          },
          "metadata": {}
        }
      ]
    },
    {
      "cell_type": "code",
      "metadata": {
        "colab": {
          "base_uri": "https://localhost:8080/",
          "height": 416
        },
        "id": "gKQ7LhlM6xrv",
        "outputId": "49fde77d-50e2-414b-a4fd-f137c0fb568c"
      },
      "source": [
        "#We can also plot the graph using pandas  \n",
        "team_player_count = raw_ipl_data['Team'].value_counts()\n",
        "team_player_count.plot(kind='bar')"
      ],
      "execution_count": 82,
      "outputs": [
        {
          "output_type": "execute_result",
          "data": {
            "text/plain": [
              "<matplotlib.axes._subplots.AxesSubplot at 0x7ff63b00d210>"
            ]
          },
          "metadata": {},
          "execution_count": 82
        },
        {
          "output_type": "display_data",
          "data": {
            "image/png": "[encoded data removed]",
            "text/plain": [
              "<Figure size 432x288 with 1 Axes>"
            ]
          },
          "metadata": {
            "needs_background": "light"
          }
        }
      ]
    },
    {
      "cell_type": "markdown",
      "metadata": {
        "id": "P91udjiyDGp3"
      },
      "source": [
        "# Player with maximum strike rate in an innings"
      ]
    },
    {
      "cell_type": "code",
      "metadata": {
        "id": "45YQkOEq81Gz"
      },
      "source": [
        "max_strike_rate = raw_ipl_data[[\"Player\", \"Batting Strike Rate\"]].copy()\n",
        "\n",
        "#Replace \"-\" with \"0\"\n",
        "max_strike_rate[\"Batting Strike Rate\"] = max_strike_rate[\"Batting Strike Rate\"].str.replace(\"-\", \"0\") \n",
        "\n",
        "#Change string to float\n",
        "max_strike_rate[\"Batting Strike Rate\"] = max_strike_rate[\"Batting Strike Rate\"].astype(\"float\")\n",
        "final_df = max_strike_rate.sort_values(by = \"Batting Strike Rate\", ascending = False).head(10)"
      ],
      "execution_count": 83,
      "outputs": []
    },
    {
      "cell_type": "code",
      "metadata": {
        "colab": {
          "base_uri": "https://localhost:8080/",
          "height": 359
        },
        "id": "jUIKl2WREx0K",
        "outputId": "78dd6c60-7a4f-44b9-a321-129a105508cb"
      },
      "source": [
        "final_df"
      ],
      "execution_count": 84,
      "outputs": [
        {
          "output_type": "execute_result",
          "data": {
            "text/html": [
              "<div>\n",
              "<style scoped>\n",
              "    .dataframe tbody tr th:only-of-type {\n",
              "        vertical-align: middle;\n",
              "    }\n",
              "\n",
              "    .dataframe tbody tr th {\n",
              "        vertical-align: top;\n",
              "    }\n",
              "\n",
              "    .dataframe thead th {\n",
              "        text-align: right;\n",
              "    }\n",
              "</style>\n",
              "<table border=\"1\" class=\"dataframe\">\n",
              "  <thead>\n",
              "    <tr style=\"text-align: right;\">\n",
              "      <th></th>\n",
              "      <th>Player</th>\n",
              "      <th>Batting Strike Rate</th>\n",
              "    </tr>\n",
              "  </thead>\n",
              "  <tbody>\n",
              "    <tr>\n",
              "      <th>621</th>\n",
              "      <td>I Sharma</td>\n",
              "      <td>333.33</td>\n",
              "    </tr>\n",
              "    <tr>\n",
              "      <th>561</th>\n",
              "      <td>SN Thakur</td>\n",
              "      <td>300.00</td>\n",
              "    </tr>\n",
              "    <tr>\n",
              "      <th>140</th>\n",
              "      <td>KC Cariappa</td>\n",
              "      <td>300.00</td>\n",
              "    </tr>\n",
              "    <tr>\n",
              "      <th>594</th>\n",
              "      <td>MK Lomror</td>\n",
              "      <td>266.66</td>\n",
              "    </tr>\n",
              "    <tr>\n",
              "      <th>423</th>\n",
              "      <td>B Stanlake</td>\n",
              "      <td>250.00</td>\n",
              "    </tr>\n",
              "    <tr>\n",
              "      <th>99</th>\n",
              "      <td>R Dhawan</td>\n",
              "      <td>233.33</td>\n",
              "    </tr>\n",
              "    <tr>\n",
              "      <th>272</th>\n",
              "      <td>SL Malinga</td>\n",
              "      <td>233.33</td>\n",
              "    </tr>\n",
              "    <tr>\n",
              "      <th>248</th>\n",
              "      <td>TG Southee</td>\n",
              "      <td>233.33</td>\n",
              "    </tr>\n",
              "    <tr>\n",
              "      <th>522</th>\n",
              "      <td>DL Chahar</td>\n",
              "      <td>233.33</td>\n",
              "    </tr>\n",
              "    <tr>\n",
              "      <th>15</th>\n",
              "      <td>CR Brathwaite</td>\n",
              "      <td>218.42</td>\n",
              "    </tr>\n",
              "  </tbody>\n",
              "</table>\n",
              "</div>"
            ],
            "text/plain": [
              "            Player  Batting Strike Rate\n",
              "621       I Sharma               333.33\n",
              "561      SN Thakur               300.00\n",
              "140    KC Cariappa               300.00\n",
              "594      MK Lomror               266.66\n",
              "423     B Stanlake               250.00\n",
              "99        R Dhawan               233.33\n",
              "272     SL Malinga               233.33\n",
              "248     TG Southee               233.33\n",
              "522      DL Chahar               233.33\n",
              "15   CR Brathwaite               218.42"
            ]
          },
          "metadata": {},
          "execution_count": 84
        }
      ]
    },
    {
      "cell_type": "code",
      "metadata": {
        "id": "6fxPWbTBEmEc"
      },
      "source": [
        "strike_rate = final_df[\"Batting Strike Rate\"].to_list()\n",
        "player = final_df[\"Player\"].to_list()"
      ],
      "execution_count": 85,
      "outputs": []
    },
    {
      "cell_type": "code",
      "metadata": {
        "colab": {
          "base_uri": "https://localhost:8080/",
          "height": 404
        },
        "id": "QmdnW3NcEg_X",
        "outputId": "24022561-43be-466d-8200-32167b08790a"
      },
      "source": [
        "plt.figure(figsize=(18,6))\n",
        "plt.bar(player, strike_rate)\n",
        "plt.xlabel(\"Name of player\")\n",
        "plt.ylabel(\"Strike rate of player\")\n",
        "plt.title(\"Maximum strike rate of player since 2016 to 2019\")\n",
        "plt.show()"
      ],
      "execution_count": 86,
      "outputs": [
        {
          "output_type": "display_data",
          "data": {
            "image/png": "[encoded data removed]",
            "text/plain": [
              "<Figure size 1296x432 with 1 Axes>"
            ]
          },
          "metadata": {
            "needs_background": "light"
          }
        }
      ]
    },
    {
      "cell_type": "markdown",
      "metadata": {
        "id": "E9OzddzHFq0q"
      },
      "source": [
        "# Player with max strike rate for an innings of minimum 50 runs \n"
      ]
    },
    {
      "cell_type": "code",
      "metadata": {
        "colab": {
          "base_uri": "https://localhost:8080/"
        },
        "id": "v_Qx_lErGKAH",
        "outputId": "defb516b-a1f4-4d12-9bb4-4f99167acb3e"
      },
      "source": [
        "max_strike_rate = raw_ipl_data[[\"Player\", \"Batting Strike Rate\", \"Runs Scored\"]].copy()\n",
        "print(max_strike_rate)"
      ],
      "execution_count": 87,
      "outputs": [
        {
          "output_type": "stream",
          "name": "stdout",
          "text": [
            "            Player Batting Strike Rate  Runs Scored\n",
            "0        CH Morris              178.89          195\n",
            "1        CH Morris              163.82          154\n",
            "2        CH Morris              176.92           46\n",
            "3        JP Duminy              122.43          191\n",
            "4        Q de Kock              136.08          445\n",
            "..             ...                 ...          ...\n",
            "626   S Lamichhane                0.00            0\n",
            "627      CA Ingram              119.48          184\n",
            "628  SE Rutherford              135.18           73\n",
            "629       KMA Paul               75.00           18\n",
            "630      GH Vihari               50.00            4\n",
            "\n",
            "[631 rows x 3 columns]\n"
          ]
        }
      ]
    },
    {
      "cell_type": "code",
      "metadata": {
        "colab": {
          "base_uri": "https://localhost:8080/"
        },
        "id": "9s3DWvbyGNqd",
        "outputId": "13ccccd2-8bcc-4d1d-b613-d34b1f50168f"
      },
      "source": [
        "#Let us now filter the rows where runs scored is greater than 50 \n",
        "conditional_df = max_strike_rate[max_strike_rate[\"Runs Scored\"] > 50]\n",
        "print(conditional_df)"
      ],
      "execution_count": 88,
      "outputs": [
        {
          "output_type": "stream",
          "name": "stdout",
          "text": [
            "            Player Batting Strike Rate  Runs Scored\n",
            "0        CH Morris              178.89          195\n",
            "1        CH Morris              163.82          154\n",
            "3        JP Duminy              122.43          191\n",
            "4        Q de Kock              136.08          445\n",
            "5          KK Nair              120.20          357\n",
            "..             ...                 ...          ...\n",
            "616        C Munro              120.00           84\n",
            "619       S Dhawan              135.67          521\n",
            "625        PP Shaw              133.71          353\n",
            "627      CA Ingram              119.48          184\n",
            "628  SE Rutherford              135.18           73\n",
            "\n",
            "[285 rows x 3 columns]\n"
          ]
        }
      ]
    },
    {
      "cell_type": "code",
      "metadata": {
        "colab": {
          "base_uri": "https://localhost:8080/"
        },
        "id": "UZSx-D3NFxDm",
        "outputId": "4fb9d08c-d12a-4a54-b568-332f0b402455"
      },
      "source": [
        "#Replace \"-\" with \"0\"\n",
        "conditional_df[\"Batting Strike Rate\"] = conditional_df[\"Batting Strike Rate\"].str.replace(\"-\", \"0\") \n",
        "\n",
        "#Change string to float\n",
        "conditional_df[\"Batting Strike Rate\"] = conditional_df[\"Batting Strike Rate\"].astype(\"float\")\n",
        "final_df = conditional_df.sort_values(by = \"Batting Strike Rate\", ascending = False).head(10)\n"
      ],
      "execution_count": 89,
      "outputs": [
        {
          "output_type": "stream",
          "name": "stderr",
          "text": [
            "/usr/local/lib/python3.7/dist-packages/ipykernel_launcher.py:2: SettingWithCopyWarning: \n",
            "A value is trying to be set on a copy of a slice from a DataFrame.\n",
            "Try using .loc[row_indexer,col_indexer] = value instead\n",
            "\n",
            "See the caveats in the documentation: https://pandas.pydata.org/pandas-docs/stable/user_guide/indexing.html#returning-a-view-versus-a-copy\n",
            "  \n",
            "/usr/local/lib/python3.7/dist-packages/ipykernel_launcher.py:5: SettingWithCopyWarning: \n",
            "A value is trying to be set on a copy of a slice from a DataFrame.\n",
            "Try using .loc[row_indexer,col_indexer] = value instead\n",
            "\n",
            "See the caveats in the documentation: https://pandas.pydata.org/pandas-docs/stable/user_guide/indexing.html#returning-a-view-versus-a-copy\n",
            "  \"\"\"\n"
          ]
        }
      ]
    },
    {
      "cell_type": "code",
      "metadata": {
        "id": "mqylKJTwHN4F"
      },
      "source": [
        "player = final_df[\"Player\"].to_list()\n",
        "strike_rate = final_df[\"Batting Strike Rate\"].to_list()"
      ],
      "execution_count": 90,
      "outputs": []
    },
    {
      "cell_type": "code",
      "metadata": {
        "colab": {
          "base_uri": "https://localhost:8080/",
          "height": 404
        },
        "id": "hNQ3y3_6HXWh",
        "outputId": "f0a52e8c-8ed2-45e3-8a08-f3d210f02547"
      },
      "source": [
        "plt.figure(figsize=(18,6))\n",
        "plt.bar(player, strike_rate)\n",
        "plt.xlabel(\"Name of player\")\n",
        "plt.ylabel(\"Strike rate of player\")\n",
        "plt.title(\"Maximum strike rate of player since 2016 to 2019 (minimum 50 runs)\")\n",
        "plt.show()"
      ],
      "execution_count": 91,
      "outputs": [
        {
          "output_type": "display_data",
          "data": {
            "image/png": "[encoded data removed]",
            "text/plain": [
              "<Figure size 1296x432 with 1 Axes>"
            ]
          },
          "metadata": {
            "needs_background": "light"
          }
        }
      ]
    }
  ]
}